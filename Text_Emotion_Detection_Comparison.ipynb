{
 "cells": [
  {
   "cell_type": "code",
   "execution_count": 1,
   "id": "f920898f",
   "metadata": {},
   "outputs": [],
   "source": [
    "!pip install pandas numpy seaborn scikit-learn neattext joblib\n"
   ]
  },
  {
   "cell_type": "code",
   "execution_count": 1,
   "id": "691c5554",
   "metadata": {},
   "outputs": [
    {
     "name": "stdout",
     "output_type": "stream",
     "text": [
      "Naive Bayes Accuracy: 0.5745\n",
      "Logistic Regression Accuracy: 0.6210\n",
      "SVM Accuracy: 0.6154\n",
      "Random Forest Accuracy: 0.5883\n"
     ]
    }
   ],
   "source": [
    "# Train multiple emotion detection models and save them as .pkl files\n",
    "\n",
    "import os\n",
    "import pandas as pd\n",
    "import neattext.functions as nfx\n",
    "from sklearn.model_selection import train_test_split\n",
    "from sklearn.pipeline import Pipeline\n",
    "from sklearn.feature_extraction.text import CountVectorizer\n",
    "from sklearn.naive_bayes import MultinomialNB\n",
    "from sklearn.linear_model import LogisticRegression\n",
    "from sklearn.svm import SVC\n",
    "from sklearn.ensemble import RandomForestClassifier\n",
    "import joblib\n",
    "\n",
    "MODEL_DIR = \"models\"\n",
    "os.makedirs(MODEL_DIR, exist_ok=True)\n",
    "\n",
    "# Load dataset (adjust path if needed)\n",
    "df = pd.read_csv(\"data/emotion_dataset_raw.csv\")\n",
    "\n",
    "# Clean the text\n",
    "df['Clean_Text'] = df['Text'].apply(nfx.remove_userhandles).apply(nfx.remove_stopwords)\n",
    "\n",
    "X = df['Clean_Text']\n",
    "y = df['Emotion']\n",
    "\n",
    "# Split dataset\n",
    "X_train, X_test, y_train, y_test = train_test_split(X, y, test_size=0.3, random_state=42)\n",
    "\n",
    "# Define pipelines for models\n",
    "pipelines = {\n",
    "    \"Naive Bayes\": Pipeline([\n",
    "        ('cv', CountVectorizer()),\n",
    "        ('nb', MultinomialNB())\n",
    "    ]),\n",
    "    \"Logistic Regression\": Pipeline([\n",
    "        ('cv', CountVectorizer()),\n",
    "        ('lr', LogisticRegression(max_iter=1000))\n",
    "    ]),\n",
    "    \"SVM\": Pipeline([\n",
    "        ('cv', CountVectorizer()),\n",
    "        ('svc', SVC(probability=True))\n",
    "    ]),\n",
    "    \"Random Forest\": Pipeline([\n",
    "        ('cv', CountVectorizer()),\n",
    "        ('rf', RandomForestClassifier(n_estimators=100))\n",
    "    ])\n",
    "}\n",
    "\n",
    "# Train and evaluate\n",
    "model_scores = {}\n",
    "for name, pipeline in pipelines.items():\n",
    "    pipeline.fit(X_train, y_train)\n",
    "    acc = pipeline.score(X_test, y_test)\n",
    "    model_scores[name] = (pipeline, acc)\n",
    "    print(f\"{name} Accuracy: {acc:.4f}\")\n",
    "\n",
    "# Save models\n",
    "for name, (model, _) in model_scores.items():\n",
    "    filename = os.path.join(MODEL_DIR, f\"pipe_{name.lower().replace(' ', '_')}.pkl\")\n",
    "    joblib.dump(model, filename)\n"
   ]
  }
 ],
 "metadata": {
  "kernelspec": {
   "display_name": "Python 3",
   "language": "python",
   "name": "python3"
  },
  "language_info": {
   "codemirror_mode": {
    "name": "ipython",
    "version": 3
   },
   "file_extension": ".py",
   "mimetype": "text/x-python",
   "name": "python",
   "nbconvert_exporter": "python",
   "pygments_lexer": "ipython3",
   "version": "3.10.11"
  }
 },
 "nbformat": 4,
 "nbformat_minor": 5
}
